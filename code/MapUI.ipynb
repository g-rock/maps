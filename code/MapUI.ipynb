{
 "cells": [
  {
   "cell_type": "code",
   "execution_count": 1,
   "metadata": {},
   "outputs": [],
   "source": [
    "from wrappers import graph_from_point_wrapper\n",
    "import ipywidgets as widgets\n",
    "from ipywidgets import GridspecLayout\n",
    "from IPython.display import display, Image\n",
    "import time\n",
    "import googlemaps\n",
    "import configparser"
   ]
  },
  {
   "cell_type": "code",
   "execution_count": 2,
   "metadata": {},
   "outputs": [],
   "source": [
    "config = configparser.ConfigParser()\n",
    "config.read('config.ini')\n",
    "key = config['default']['googleApiKey']\n",
    "gmaps = googlemaps.Client(key=key)\n",
    "coords = { 'lat': 36.005800 , 'lng': -78.897020 }"
   ]
  },
  {
   "cell_type": "code",
   "execution_count": 3,
   "metadata": {},
   "outputs": [],
   "source": [
    "# Debouncing shit\n",
    "import asyncio\n",
    "\n",
    "class Timer:\n",
    "    def __init__(self, timeout, callback):\n",
    "        self._timeout = timeout\n",
    "        self._callback = callback\n",
    "        self._task = asyncio.ensure_future(self._job())\n",
    "\n",
    "    async def _job(self):\n",
    "        await asyncio.sleep(self._timeout)\n",
    "        self._callback()\n",
    "\n",
    "    def cancel(self):\n",
    "        self._task.cancel()\n",
    "\n",
    "def debounce(wait):\n",
    "    \"\"\" Decorator that will postpone a function's\n",
    "        execution until after `wait` seconds\n",
    "        have elapsed since the last time it was invoked. \"\"\"\n",
    "    def decorator(fn):\n",
    "        timer = None\n",
    "        def debounced(*args, **kwargs):\n",
    "            nonlocal timer\n",
    "            def call_it():\n",
    "                fn(*args, **kwargs)\n",
    "            if timer is not None:\n",
    "                timer.cancel()\n",
    "            timer = Timer(wait, call_it)\n",
    "        return debounced\n",
    "    return decorator"
   ]
  },
  {
   "cell_type": "code",
   "execution_count": 4,
   "metadata": {},
   "outputs": [],
   "source": [
    "def read_and_return_img():\n",
    "    file = open(\"images/test.jpg\", \"rb\")\n",
    "    image = file.read()\n",
    "    return image"
   ]
  },
  {
   "cell_type": "code",
   "execution_count": 5,
   "metadata": {},
   "outputs": [],
   "source": [
    "def format_caption():\n",
    "    return 'Image below: map with {radius} meter radius; {fig_size}in. figure size; {color}'.format(\n",
    "        radius=radius_slider.value,\n",
    "        fig_size=fig_slider.value,\n",
    "        color=color_picker.value) "
   ]
  },
  {
   "cell_type": "code",
   "execution_count": 6,
   "metadata": {},
   "outputs": [],
   "source": [
    "import pprint\n",
    "def geocode_for_lat_lng(address):\n",
    "    try:\n",
    "        result = gmaps.geocode(address)\n",
    "        return result[0]['geometry']['location'] # dict with keys 'lat' & 'lng'\n",
    "    except:\n",
    "        return False"
   ]
  },
  {
   "cell_type": "code",
   "execution_count": 7,
   "metadata": {},
   "outputs": [],
   "source": [
    "def create_and_display_img():\n",
    "    graph_from_point_wrapper(\n",
    "        point=(lat_text.value, lng_text.value),\n",
    "        distance=radius_slider.value,\n",
    "        fig_height=fig_slider.value,\n",
    "        network_type='drive',\n",
    "        distance_type='bbox',\n",
    "        color=color_picker.value,\n",
    "        save=True\n",
    "    )\n",
    "    image = read_and_return_img()\n",
    "    img_display.value = image\n",
    "@debounce(1.0)\n",
    "def shared_event_handler(change):\n",
    "    caption.value = format_caption()\n",
    "    create_and_display_img()\n",
    "\n",
    "@debounce(2.0)\n",
    "def geocode_handler(change):\n",
    "    coords = geocode_for_lat_lng(address_text.value)\n",
    "    if coords:\n",
    "        lat_text.value = coords['lat']\n",
    "        lng_text.value = coords['lng']\n",
    "    create_and_display_img()"
   ]
  },
  {
   "cell_type": "code",
   "execution_count": 8,
   "metadata": {},
   "outputs": [],
   "source": [
    "# Widgets\n",
    "\n",
    "address_text = widgets.Text(\n",
    "    value='213 W Trinity Ave Durham NC',\n",
    "    placeholder='Input an address',\n",
    "    description='Address:'\n",
    ")\n",
    "lat_text = widgets.FloatText(\n",
    "    value=coords['lat'],\n",
    "    description='Lat:',\n",
    "    disabled=True\n",
    ")\n",
    "lng_text = widgets.FloatText(\n",
    "    value=coords['lng'],\n",
    "    description='Lng:',\n",
    "    disabled=True\n",
    ")\n",
    "\n",
    "radius_slider = widgets.IntSlider(\n",
    "    min=500,\n",
    "    max=5000,\n",
    "    step=1000,\n",
    "    description='Map radius:',\n",
    "    value=1000\n",
    ")\n",
    "fig_slider = widgets.IntSlider(\n",
    "    min=8,\n",
    "    max=24,\n",
    "    step=2,\n",
    "    description='Figure size:',\n",
    "    value=8\n",
    ")\n",
    "\n",
    "color_picker = widgets.ColorPicker(\n",
    "    concise=False,\n",
    "    description='Pick a color:',\n",
    "    value='darkolivegreen',\n",
    "    disabled=False\n",
    ")\n",
    "\n",
    "img_display = widgets.Image(\n",
    "    value=read_and_return_img()\n",
    ")\n",
    "\n",
    "caption = widgets.Label(value=format_caption())\n",
    "\n",
    "address_text.observe(geocode_handler, names='value')\n",
    "radius_slider.observe(shared_event_handler, names='value')\n",
    "fig_slider.observe(shared_event_handler, names='value')\n",
    "color_picker.observe(shared_event_handler, names='value')"
   ]
  },
  {
   "cell_type": "code",
   "execution_count": 9,
   "metadata": {},
   "outputs": [
    {
     "data": {
      "application/vnd.jupyter.widget-view+json": {
       "model_id": "7e7fb6df80784fe8867ce54a043d4a17",
       "version_major": 2,
       "version_minor": 0
      },
      "text/plain": [
       "GridspecLayout(children=(Image(value=b'\\xff\\xd8\\xff\\xe0\\x00\\x10JFIF\\x00\\x01\\x01\\x01\\x00H\\x00H\\x00\\x00\\xff\\xdb\\…"
      ]
     },
     "metadata": {},
     "output_type": "display_data"
    }
   ],
   "source": [
    "# Grid layout - https://ipywidgets.readthedocs.io/en/latest/examples/Layout%20Templates.html#Grid-layout\n",
    "grid = GridspecLayout(10, 3, height='auto')\n",
    "grid[1:10, 1:] = img_display\n",
    "grid[0:1, 1:] = caption\n",
    "grid[1:2, 0] = address_text\n",
    "grid[2:3, 0] = lat_text\n",
    "grid[3:4, 0] = lng_text\n",
    "grid[4:5, 0] = radius_slider\n",
    "grid[5:6, 0] = fig_slider\n",
    "grid[6:7, 0] = color_picker\n",
    "grid"
   ]
  }
 ],
 "metadata": {
  "kernelspec": {
   "display_name": "Python 3",
   "language": "python",
   "name": "python3"
  },
  "language_info": {
   "codemirror_mode": {
    "name": "ipython",
    "version": 3
   },
   "file_extension": ".py",
   "mimetype": "text/x-python",
   "name": "python",
   "nbconvert_exporter": "python",
   "pygments_lexer": "ipython3",
   "version": "3.8.2"
  }
 },
 "nbformat": 4,
 "nbformat_minor": 4
}
