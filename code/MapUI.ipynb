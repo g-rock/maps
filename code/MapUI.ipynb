{
 "cells": [
  {
   "cell_type": "code",
   "execution_count": 1,
   "metadata": {},
   "outputs": [],
   "source": [
    "from wrappers import graph_from_point_wrapper\n",
    "import ipywidgets as widgets\n",
    "from IPython.display import display, Image\n",
    "import time"
   ]
  },
  {
   "cell_type": "code",
   "execution_count": 2,
   "metadata": {},
   "outputs": [],
   "source": [
    "# Debouncing shit\n",
    "import asyncio\n",
    "\n",
    "class Timer:\n",
    "    def __init__(self, timeout, callback):\n",
    "        self._timeout = timeout\n",
    "        self._callback = callback\n",
    "        self._task = asyncio.ensure_future(self._job())\n",
    "\n",
    "    async def _job(self):\n",
    "        await asyncio.sleep(self._timeout)\n",
    "        self._callback()\n",
    "\n",
    "    def cancel(self):\n",
    "        self._task.cancel()\n",
    "\n",
    "def debounce(wait):\n",
    "    \"\"\" Decorator that will postpone a function's\n",
    "        execution until after `wait` seconds\n",
    "        have elapsed since the last time it was invoked. \"\"\"\n",
    "    def decorator(fn):\n",
    "        timer = None\n",
    "        def debounced(*args, **kwargs):\n",
    "            nonlocal timer\n",
    "            def call_it():\n",
    "                fn(*args, **kwargs)\n",
    "            if timer is not None:\n",
    "                timer.cancel()\n",
    "            timer = Timer(wait, call_it)\n",
    "        return debounced\n",
    "    return decorator"
   ]
  },
  {
   "cell_type": "code",
   "execution_count": 3,
   "metadata": {},
   "outputs": [],
   "source": [
    "def read_and_return_img():\n",
    "    file = open(\"images/test.jpg\", \"rb\")\n",
    "    image = file.read()\n",
    "    return image"
   ]
  },
  {
   "cell_type": "code",
   "execution_count": 4,
   "metadata": {},
   "outputs": [],
   "source": [
    "def format_second_caption():\n",
    "    return 'Image below: map with {radius} meter radius; {fig_size}in. figure size; {color}'.format(\n",
    "        radius=radius_slider.value,\n",
    "        fig_size=fig_slider.value,\n",
    "        color=color_picker.value) "
   ]
  },
  {
   "cell_type": "code",
   "execution_count": 5,
   "metadata": {},
   "outputs": [],
   "source": [
    "@debounce(1.0)\n",
    "def shared_event_handler(change):\n",
    "    second_caption.value = format_second_caption()\n",
    "    graph_from_point_wrapper(\n",
    "        point=(lat_text.value, lon_text.value),\n",
    "        distance=radius_slider.value,\n",
    "        fig_height=fig_slider.value,\n",
    "        network_type='drive',\n",
    "        distance_type='bbox',\n",
    "        color=color_picker.value,\n",
    "        save=True\n",
    "    )\n",
    "    image = read_and_return_img()\n",
    "    img_display.value = image\n"
   ]
  },
  {
   "cell_type": "code",
   "execution_count": 6,
   "metadata": {},
   "outputs": [],
   "source": [
    "first_caption = widgets.Label(value='~~~~~ Change options below to produce new map ~~~~~')\n",
    "\n",
    "lat_text = widgets.FloatText(\n",
    "    value=36.005800,\n",
    "    placeholder='Type latitude',\n",
    "    description='Latitude:',\n",
    "    disabled=False\n",
    ")\n",
    "\n",
    "lon_text = widgets.FloatText(\n",
    "    value=-78.897020,\n",
    "    placeholder='Type longitude',\n",
    "    description='Longitude:',\n",
    "    disabled=False\n",
    ")\n",
    "radius_slider = widgets.IntSlider(\n",
    "    min=500,\n",
    "    max=5000,\n",
    "    step=1000,\n",
    "    description='Map radius:',\n",
    "    value=1000\n",
    ")\n",
    "fig_slider = widgets.IntSlider(\n",
    "    min=8,\n",
    "    max=24,\n",
    "    step=2,\n",
    "    description='Figure size:',\n",
    "    value=8\n",
    ")\n",
    "\n",
    "color_picker = widgets.ColorPicker(\n",
    "    concise=False,\n",
    "    description='Pick a color:',\n",
    "    value='darkolivegreen',\n",
    "    disabled=False\n",
    ")\n",
    "\n",
    "img_display = widgets.Image(\n",
    "    value=read_and_return_img()\n",
    ")\n",
    "\n",
    "second_caption = widgets.Label(value=format_second_caption())\n",
    "\n",
    "lat_text.observe(shared_event_handler, names='value')\n",
    "lon_text.observe(shared_event_handler, names='value')\n",
    "radius_slider.observe(shared_event_handler, names='value')\n",
    "fig_slider.observe(shared_event_handler, names='value')\n",
    "color_picker.observe(shared_event_handler, names='value')"
   ]
  },
  {
   "cell_type": "markdown",
   "metadata": {},
   "source": [
    "### Nice resource to help find coordinates: https://www.latlong.net/convert-address-to-lat-long.html"
   ]
  },
  {
   "cell_type": "code",
   "execution_count": 7,
   "metadata": {},
   "outputs": [
    {
     "data": {
      "application/vnd.jupyter.widget-view+json": {
       "model_id": "5fb3006545794ab79093dd56bc4470a1",
       "version_major": 2,
       "version_minor": 0
      },
      "text/plain": [
       "Label(value='~~~~~ Change options below to produce new map ~~~~~')"
      ]
     },
     "metadata": {},
     "output_type": "display_data"
    },
    {
     "data": {
      "application/vnd.jupyter.widget-view+json": {
       "model_id": "81d7a744832b4f5c87262328631a42ff",
       "version_major": 2,
       "version_minor": 0
      },
      "text/plain": [
       "FloatText(value=36.0058, description='Latitude:')"
      ]
     },
     "metadata": {},
     "output_type": "display_data"
    },
    {
     "data": {
      "application/vnd.jupyter.widget-view+json": {
       "model_id": "34957d2763ae4c3a8e72332d89cae875",
       "version_major": 2,
       "version_minor": 0
      },
      "text/plain": [
       "FloatText(value=-78.89702, description='Longitude:')"
      ]
     },
     "metadata": {},
     "output_type": "display_data"
    },
    {
     "data": {
      "application/vnd.jupyter.widget-view+json": {
       "model_id": "c8bb56b0e6b748059ffd7142a82f5099",
       "version_major": 2,
       "version_minor": 0
      },
      "text/plain": [
       "IntSlider(value=1000, description='Map radius:', max=5000, min=500, step=1000)"
      ]
     },
     "metadata": {},
     "output_type": "display_data"
    },
    {
     "data": {
      "application/vnd.jupyter.widget-view+json": {
       "model_id": "487649e274b74a359a0b8a04da90340e",
       "version_major": 2,
       "version_minor": 0
      },
      "text/plain": [
       "IntSlider(value=8, description='Figure size:', max=24, min=8, step=2)"
      ]
     },
     "metadata": {},
     "output_type": "display_data"
    },
    {
     "data": {
      "application/vnd.jupyter.widget-view+json": {
       "model_id": "c388d9dc845b45a39d86a4bc00d5c33c",
       "version_major": 2,
       "version_minor": 0
      },
      "text/plain": [
       "ColorPicker(value='darkolivegreen', description='Pick a color:')"
      ]
     },
     "metadata": {},
     "output_type": "display_data"
    },
    {
     "data": {
      "application/vnd.jupyter.widget-view+json": {
       "model_id": "44e8a04d2de94a0fbe8c9a1fcceca918",
       "version_major": 2,
       "version_minor": 0
      },
      "text/plain": [
       "Label(value='Image below: map with 1000 meter radius; 8in. figure size; darkolivegreen')"
      ]
     },
     "metadata": {},
     "output_type": "display_data"
    },
    {
     "data": {
      "application/vnd.jupyter.widget-view+json": {
       "model_id": "c359a61cc52540599c5006764f6d4f43",
       "version_major": 2,
       "version_minor": 0
      },
      "text/plain": [
       "Image(value=b'\\xff\\xd8\\xff\\xe0\\x00\\x10JFIF\\x00\\x01\\x01\\x01\\x00H\\x00H\\x00\\x00\\xff\\xdb\\x00C\\x00\\x02\\x01\\x01\\x01\\…"
      ]
     },
     "metadata": {},
     "output_type": "display_data"
    }
   ],
   "source": [
    "display(first_caption, lat_text, lon_text, radius_slider, fig_slider, color_picker, second_caption, img_display)"
   ]
  }
 ],
 "metadata": {
  "kernelspec": {
   "display_name": "Python 3",
   "language": "python",
   "name": "python3"
  },
  "language_info": {
   "codemirror_mode": {
    "name": "ipython",
    "version": 3
   },
   "file_extension": ".py",
   "mimetype": "text/x-python",
   "name": "python",
   "nbconvert_exporter": "python",
   "pygments_lexer": "ipython3",
   "version": "3.8.2"
  }
 },
 "nbformat": 4,
 "nbformat_minor": 4
}
