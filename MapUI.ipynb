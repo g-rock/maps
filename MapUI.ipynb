{
 "cells": [
  {
   "cell_type": "code",
   "execution_count": 1,
   "metadata": {},
   "outputs": [],
   "source": [
    "from wrappers import graph_from_point_wrapper\n",
    "import ipywidgets as widgets\n",
    "from IPython.display import display"
   ]
  },
  {
   "cell_type": "code",
   "execution_count": 2,
   "metadata": {},
   "outputs": [],
   "source": [
    "def shared_event_handler(change):\n",
    "    second_caption.value = 'Below: map with {radius} meter radius; {fig_size}in. figure size; {color}'.format(\n",
    "        radius=radius_slider.value,\n",
    "        fig_size=fig_slider.value,\n",
    "        color=color_picker.value)\n",
    "    print(second_caption.value)\n",
    "    graph_from_point_wrapper(\n",
    "        point=(lat_text.value, lon_text.value),\n",
    "        text='212WTrinity',\n",
    "        distance=radius_slider.value,\n",
    "        fig_height=fig_slider.value,\n",
    "        network_type='drive',\n",
    "        distance_type='bbox',\n",
    "        color=color_picker.value,\n",
    "        save=False\n",
    "    )"
   ]
  },
  {
   "cell_type": "code",
   "execution_count": 3,
   "metadata": {},
   "outputs": [],
   "source": [
    "first_caption = widgets.Label(value='~~~~~ Change options below to produce new map ~~~~~')\n",
    "second_caption = widgets.Label(value='')\n",
    "\n",
    "lat_text = widgets.FloatText(\n",
    "    value=36.005800,\n",
    "    placeholder='Type latitude',\n",
    "    description='Latitude:',\n",
    "    disabled=False\n",
    ")\n",
    "\n",
    "lon_text = widgets.FloatText(\n",
    "    value=-78.897020,\n",
    "    placeholder='Type longitude',\n",
    "    description='Longitude:',\n",
    "    disabled=False\n",
    ")\n",
    "radius_slider = widgets.IntSlider(\n",
    "    min=500,\n",
    "    max=5000,\n",
    "    step=1000,\n",
    "    description='Map radius:',\n",
    "    value=1000\n",
    ")\n",
    "fig_slider = widgets.IntSlider(\n",
    "    min=8,\n",
    "    max=24,\n",
    "    step=2,\n",
    "    description='Figure size:',\n",
    "    value=8\n",
    ")\n",
    "\n",
    "color_picker = widgets.ColorPicker(\n",
    "    concise=False,\n",
    "    description='Pick a color:',\n",
    "    value='darkolivegreen',\n",
    "    disabled=False\n",
    ")\n",
    "\n",
    "lat_text.observe(shared_event_handler, names='value')\n",
    "lon_text.observe(shared_event_handler, names='value')\n",
    "radius_slider.observe(shared_event_handler, names='value')\n",
    "fig_slider.observe(shared_event_handler, names='value')\n",
    "color_picker.observe(shared_event_handler, names='value')"
   ]
  },
  {
   "cell_type": "markdown",
   "metadata": {},
   "source": [
    "### Resoure to find coordinates from address: https://www.latlong.net/convert-address-to-lat-long.html"
   ]
  },
  {
   "cell_type": "code",
   "execution_count": 4,
   "metadata": {},
   "outputs": [
    {
     "data": {
      "application/vnd.jupyter.widget-view+json": {
       "model_id": "e0baf6189e1d472ca367f7b19f3b2bbd",
       "version_major": 2,
       "version_minor": 0
      },
      "text/plain": [
       "Label(value='~~~~~ Change options below to produce new map ~~~~~')"
      ]
     },
     "metadata": {},
     "output_type": "display_data"
    },
    {
     "data": {
      "application/vnd.jupyter.widget-view+json": {
       "model_id": "79e5182c362d4686ab3ee0fbd29f7159",
       "version_major": 2,
       "version_minor": 0
      },
      "text/plain": [
       "FloatText(value=36.0058, description='Latitude:')"
      ]
     },
     "metadata": {},
     "output_type": "display_data"
    },
    {
     "data": {
      "application/vnd.jupyter.widget-view+json": {
       "model_id": "eac064a5ef2b4cc79e7bcbd5faa1c3c2",
       "version_major": 2,
       "version_minor": 0
      },
      "text/plain": [
       "FloatText(value=-78.89702, description='Longitude:')"
      ]
     },
     "metadata": {},
     "output_type": "display_data"
    },
    {
     "data": {
      "application/vnd.jupyter.widget-view+json": {
       "model_id": "5ec099b5ef10481c9ff9cd9b0d3377bb",
       "version_major": 2,
       "version_minor": 0
      },
      "text/plain": [
       "IntSlider(value=1000, description='Map radius:', max=5000, min=500, step=1000)"
      ]
     },
     "metadata": {},
     "output_type": "display_data"
    },
    {
     "data": {
      "application/vnd.jupyter.widget-view+json": {
       "model_id": "8cdbc4688c23470cbb1f67ce865f8251",
       "version_major": 2,
       "version_minor": 0
      },
      "text/plain": [
       "IntSlider(value=8, description='Figure size:', max=24, min=8, step=2)"
      ]
     },
     "metadata": {},
     "output_type": "display_data"
    },
    {
     "data": {
      "application/vnd.jupyter.widget-view+json": {
       "model_id": "fd994f73a6534529991a32b996f86376",
       "version_major": 2,
       "version_minor": 0
      },
      "text/plain": [
       "ColorPicker(value='darkolivegreen', description='Pick a color:')"
      ]
     },
     "metadata": {},
     "output_type": "display_data"
    }
   ],
   "source": [
    "display(first_caption, lat_text, lon_text, radius_slider, fig_slider, color_picker)"
   ]
  }
 ],
 "metadata": {
  "kernelspec": {
   "display_name": "Python 3",
   "language": "python",
   "name": "python3"
  },
  "language_info": {
   "codemirror_mode": {
    "name": "ipython",
    "version": 3
   },
   "file_extension": ".py",
   "mimetype": "text/x-python",
   "name": "python",
   "nbconvert_exporter": "python",
   "pygments_lexer": "ipython3",
   "version": "3.8.2"
  }
 },
 "nbformat": 4,
 "nbformat_minor": 4
}
